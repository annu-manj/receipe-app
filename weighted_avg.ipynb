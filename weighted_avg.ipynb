{
 "cells": [
  {
   "cell_type": "code",
   "execution_count": 1,
   "id": "0bf5374e",
   "metadata": {},
   "outputs": [],
   "source": [
    "import pandas as pd"
   ]
  },
  {
   "cell_type": "code",
   "execution_count": 2,
   "id": "8cdb28fd",
   "metadata": {},
   "outputs": [],
   "source": [
    "# Data Loading \n",
    "recipe_df = pd.read_csv(r\"ff.csv\")\n",
    "rating_df=pd.read_csv(r\"rating.csv\")"
   ]
  },
  {
   "cell_type": "code",
   "execution_count": 3,
   "id": "be513441",
   "metadata": {},
   "outputs": [
    {
     "data": {
      "text/html": [
       "<div>\n",
       "<style scoped>\n",
       "    .dataframe tbody tr th:only-of-type {\n",
       "        vertical-align: middle;\n",
       "    }\n",
       "\n",
       "    .dataframe tbody tr th {\n",
       "        vertical-align: top;\n",
       "    }\n",
       "\n",
       "    .dataframe thead th {\n",
       "        text-align: right;\n",
       "    }\n",
       "</style>\n",
       "<table border=\"1\" class=\"dataframe\">\n",
       "  <thead>\n",
       "    <tr style=\"text-align: right;\">\n",
       "      <th></th>\n",
       "      <th>RecipeId</th>\n",
       "      <th>RecipeName</th>\n",
       "      <th>Ingredients</th>\n",
       "      <th>TotalTimeInMins</th>\n",
       "      <th>Servings</th>\n",
       "      <th>Cuisine</th>\n",
       "      <th>Course</th>\n",
       "      <th>Diet</th>\n",
       "      <th>Instructions</th>\n",
       "      <th>URL</th>\n",
       "    </tr>\n",
       "  </thead>\n",
       "  <tbody>\n",
       "    <tr>\n",
       "      <th>0</th>\n",
       "      <td>1</td>\n",
       "      <td>Masala Karela Recipe</td>\n",
       "      <td>6 Karela (Bitter Gourd/ Pavakkai) - deseeded,S...</td>\n",
       "      <td>45</td>\n",
       "      <td>6</td>\n",
       "      <td>Indian</td>\n",
       "      <td>Side Dish</td>\n",
       "      <td>Diabetic Friendly</td>\n",
       "      <td>To begin making the Masala Karela Recipe,de-se...</td>\n",
       "      <td>https://www.archanaskitchen.com/masala-karela-...</td>\n",
       "    </tr>\n",
       "    <tr>\n",
       "      <th>1</th>\n",
       "      <td>2</td>\n",
       "      <td>Spicy Tomato Rice (Recipe)</td>\n",
       "      <td>2-1 / 2 cups rice - cooked, 3 tomatoes, 3 teas...</td>\n",
       "      <td>15</td>\n",
       "      <td>3</td>\n",
       "      <td>South Indian Recipes</td>\n",
       "      <td>Main Course</td>\n",
       "      <td>Vegetarian</td>\n",
       "      <td>To make tomato puliogere, first cut the tomato...</td>\n",
       "      <td>http://www.archanaskitchen.com/spicy-tomato-ri...</td>\n",
       "    </tr>\n",
       "    <tr>\n",
       "      <th>2</th>\n",
       "      <td>3</td>\n",
       "      <td>Ragi Semiya Upma Recipe - Ragi Millet Vermicel...</td>\n",
       "      <td>1-1/2 cups Rice Vermicelli Noodles (Thin),1 On...</td>\n",
       "      <td>50</td>\n",
       "      <td>4</td>\n",
       "      <td>South Indian Recipes</td>\n",
       "      <td>South Indian Breakfast</td>\n",
       "      <td>High Protein Vegetarian</td>\n",
       "      <td>To begin making the Ragi Vermicelli Recipe, fi...</td>\n",
       "      <td>http://www.archanaskitchen.com/ragi-vermicelli...</td>\n",
       "    </tr>\n",
       "    <tr>\n",
       "      <th>3</th>\n",
       "      <td>4</td>\n",
       "      <td>Gongura Chicken Curry Recipe - Andhra Style Go...</td>\n",
       "      <td>500 grams Chicken,2 Onion - chopped,1 Tomato -...</td>\n",
       "      <td>45</td>\n",
       "      <td>4</td>\n",
       "      <td>Andhra</td>\n",
       "      <td>Lunch</td>\n",
       "      <td>Non Vegeterian</td>\n",
       "      <td>To begin making Gongura Chicken Curry Recipe f...</td>\n",
       "      <td>http://www.archanaskitchen.com/gongura-chicken...</td>\n",
       "    </tr>\n",
       "    <tr>\n",
       "      <th>4</th>\n",
       "      <td>5</td>\n",
       "      <td>Andhra Style Alam Pachadi Recipe - Adrak Chutn...</td>\n",
       "      <td>1 tablespoon chana dal, 1 tablespoon white ura...</td>\n",
       "      <td>30</td>\n",
       "      <td>4</td>\n",
       "      <td>Andhra</td>\n",
       "      <td>South Indian Breakfast</td>\n",
       "      <td>Vegetarian</td>\n",
       "      <td>To make Andhra Style Alam Pachadi, first heat ...</td>\n",
       "      <td>https://www.archanaskitchen.com/andhra-style-a...</td>\n",
       "    </tr>\n",
       "  </tbody>\n",
       "</table>\n",
       "</div>"
      ],
      "text/plain": [
       "   RecipeId                                         RecipeName  \\\n",
       "0         1                               Masala Karela Recipe   \n",
       "1         2                         Spicy Tomato Rice (Recipe)   \n",
       "2         3  Ragi Semiya Upma Recipe - Ragi Millet Vermicel...   \n",
       "3         4  Gongura Chicken Curry Recipe - Andhra Style Go...   \n",
       "4         5  Andhra Style Alam Pachadi Recipe - Adrak Chutn...   \n",
       "\n",
       "                                         Ingredients  TotalTimeInMins  \\\n",
       "0  6 Karela (Bitter Gourd/ Pavakkai) - deseeded,S...               45   \n",
       "1  2-1 / 2 cups rice - cooked, 3 tomatoes, 3 teas...               15   \n",
       "2  1-1/2 cups Rice Vermicelli Noodles (Thin),1 On...               50   \n",
       "3  500 grams Chicken,2 Onion - chopped,1 Tomato -...               45   \n",
       "4  1 tablespoon chana dal, 1 tablespoon white ura...               30   \n",
       "\n",
       "   Servings               Cuisine                  Course  \\\n",
       "0         6                Indian               Side Dish   \n",
       "1         3  South Indian Recipes             Main Course   \n",
       "2         4  South Indian Recipes  South Indian Breakfast   \n",
       "3         4                Andhra                   Lunch   \n",
       "4         4                Andhra  South Indian Breakfast   \n",
       "\n",
       "                      Diet                                       Instructions  \\\n",
       "0        Diabetic Friendly  To begin making the Masala Karela Recipe,de-se...   \n",
       "1               Vegetarian  To make tomato puliogere, first cut the tomato...   \n",
       "2  High Protein Vegetarian  To begin making the Ragi Vermicelli Recipe, fi...   \n",
       "3           Non Vegeterian  To begin making Gongura Chicken Curry Recipe f...   \n",
       "4               Vegetarian  To make Andhra Style Alam Pachadi, first heat ...   \n",
       "\n",
       "                                                 URL  \n",
       "0  https://www.archanaskitchen.com/masala-karela-...  \n",
       "1  http://www.archanaskitchen.com/spicy-tomato-ri...  \n",
       "2  http://www.archanaskitchen.com/ragi-vermicelli...  \n",
       "3  http://www.archanaskitchen.com/gongura-chicken...  \n",
       "4  https://www.archanaskitchen.com/andhra-style-a...  "
      ]
     },
     "execution_count": 3,
     "metadata": {},
     "output_type": "execute_result"
    }
   ],
   "source": [
    "recipe_df.head()"
   ]
  },
  {
   "cell_type": "code",
   "execution_count": 4,
   "id": "17ba181d",
   "metadata": {},
   "outputs": [
    {
     "data": {
      "text/html": [
       "<div>\n",
       "<style scoped>\n",
       "    .dataframe tbody tr th:only-of-type {\n",
       "        vertical-align: middle;\n",
       "    }\n",
       "\n",
       "    .dataframe tbody tr th {\n",
       "        vertical-align: top;\n",
       "    }\n",
       "\n",
       "    .dataframe thead th {\n",
       "        text-align: right;\n",
       "    }\n",
       "</style>\n",
       "<table border=\"1\" class=\"dataframe\">\n",
       "  <thead>\n",
       "    <tr style=\"text-align: right;\">\n",
       "      <th></th>\n",
       "      <th>user_id</th>\n",
       "      <th>recipe_id</th>\n",
       "      <th>rating</th>\n",
       "    </tr>\n",
       "  </thead>\n",
       "  <tbody>\n",
       "    <tr>\n",
       "      <th>0</th>\n",
       "      <td>1</td>\n",
       "      <td>88</td>\n",
       "      <td>4</td>\n",
       "    </tr>\n",
       "    <tr>\n",
       "      <th>1</th>\n",
       "      <td>1</td>\n",
       "      <td>46</td>\n",
       "      <td>3</td>\n",
       "    </tr>\n",
       "    <tr>\n",
       "      <th>2</th>\n",
       "      <td>1</td>\n",
       "      <td>24</td>\n",
       "      <td>5</td>\n",
       "    </tr>\n",
       "    <tr>\n",
       "      <th>3</th>\n",
       "      <td>1</td>\n",
       "      <td>25</td>\n",
       "      <td>4</td>\n",
       "    </tr>\n",
       "    <tr>\n",
       "      <th>4</th>\n",
       "      <td>2</td>\n",
       "      <td>49</td>\n",
       "      <td>1</td>\n",
       "    </tr>\n",
       "  </tbody>\n",
       "</table>\n",
       "</div>"
      ],
      "text/plain": [
       "   user_id  recipe_id  rating\n",
       "0        1         88       4\n",
       "1        1         46       3\n",
       "2        1         24       5\n",
       "3        1         25       4\n",
       "4        2         49       1"
      ]
     },
     "execution_count": 4,
     "metadata": {},
     "output_type": "execute_result"
    }
   ],
   "source": [
    "#user_id=1 voted for which recipe_id\n",
    "rating_df.head()"
   ]
  },
  {
   "cell_type": "code",
   "execution_count": 5,
   "id": "d96392a1",
   "metadata": {},
   "outputs": [],
   "source": [
    "#renaming the column name\n",
    "recipe_df.rename(columns={'RecipeId':'recipe_id'},inplace=True)"
   ]
  },
  {
   "cell_type": "code",
   "execution_count": 6,
   "id": "e1980c1b",
   "metadata": {},
   "outputs": [
    {
     "data": {
      "text/plain": [
       "(99, 10)"
      ]
     },
     "execution_count": 6,
     "metadata": {},
     "output_type": "execute_result"
    }
   ],
   "source": [
    "recipe_df.shape"
   ]
  },
  {
   "cell_type": "code",
   "execution_count": 7,
   "id": "cac69979",
   "metadata": {},
   "outputs": [
    {
     "data": {
      "text/plain": [
       "(511, 3)"
      ]
     },
     "execution_count": 7,
     "metadata": {},
     "output_type": "execute_result"
    }
   ],
   "source": [
    "rating_df.shape"
   ]
  },
  {
   "cell_type": "code",
   "execution_count": 8,
   "id": "34b6fdec",
   "metadata": {},
   "outputs": [
    {
     "data": {
      "text/html": [
       "<div>\n",
       "<style scoped>\n",
       "    .dataframe tbody tr th:only-of-type {\n",
       "        vertical-align: middle;\n",
       "    }\n",
       "\n",
       "    .dataframe tbody tr th {\n",
       "        vertical-align: top;\n",
       "    }\n",
       "\n",
       "    .dataframe thead th {\n",
       "        text-align: right;\n",
       "    }\n",
       "</style>\n",
       "<table border=\"1\" class=\"dataframe\">\n",
       "  <thead>\n",
       "    <tr style=\"text-align: right;\">\n",
       "      <th></th>\n",
       "      <th>recipe_id</th>\n",
       "      <th>RecipeName</th>\n",
       "      <th>Ingredients</th>\n",
       "      <th>TotalTimeInMins</th>\n",
       "      <th>Servings</th>\n",
       "      <th>Cuisine</th>\n",
       "      <th>Course</th>\n",
       "      <th>Diet</th>\n",
       "      <th>Instructions</th>\n",
       "      <th>URL</th>\n",
       "      <th>user_id</th>\n",
       "      <th>rating</th>\n",
       "    </tr>\n",
       "  </thead>\n",
       "  <tbody>\n",
       "    <tr>\n",
       "      <th>0</th>\n",
       "      <td>1</td>\n",
       "      <td>Masala Karela Recipe</td>\n",
       "      <td>6 Karela (Bitter Gourd/ Pavakkai) - deseeded,S...</td>\n",
       "      <td>45</td>\n",
       "      <td>6</td>\n",
       "      <td>Indian</td>\n",
       "      <td>Side Dish</td>\n",
       "      <td>Diabetic Friendly</td>\n",
       "      <td>To begin making the Masala Karela Recipe,de-se...</td>\n",
       "      <td>https://www.archanaskitchen.com/masala-karela-...</td>\n",
       "      <td>49</td>\n",
       "      <td>5</td>\n",
       "    </tr>\n",
       "    <tr>\n",
       "      <th>1</th>\n",
       "      <td>1</td>\n",
       "      <td>Masala Karela Recipe</td>\n",
       "      <td>6 Karela (Bitter Gourd/ Pavakkai) - deseeded,S...</td>\n",
       "      <td>45</td>\n",
       "      <td>6</td>\n",
       "      <td>Indian</td>\n",
       "      <td>Side Dish</td>\n",
       "      <td>Diabetic Friendly</td>\n",
       "      <td>To begin making the Masala Karela Recipe,de-se...</td>\n",
       "      <td>https://www.archanaskitchen.com/masala-karela-...</td>\n",
       "      <td>71</td>\n",
       "      <td>10</td>\n",
       "    </tr>\n",
       "    <tr>\n",
       "      <th>2</th>\n",
       "      <td>2</td>\n",
       "      <td>Spicy Tomato Rice (Recipe)</td>\n",
       "      <td>2-1 / 2 cups rice - cooked, 3 tomatoes, 3 teas...</td>\n",
       "      <td>15</td>\n",
       "      <td>3</td>\n",
       "      <td>South Indian Recipes</td>\n",
       "      <td>Main Course</td>\n",
       "      <td>Vegetarian</td>\n",
       "      <td>To make tomato puliogere, first cut the tomato...</td>\n",
       "      <td>http://www.archanaskitchen.com/spicy-tomato-ri...</td>\n",
       "      <td>9</td>\n",
       "      <td>3</td>\n",
       "    </tr>\n",
       "    <tr>\n",
       "      <th>3</th>\n",
       "      <td>2</td>\n",
       "      <td>Spicy Tomato Rice (Recipe)</td>\n",
       "      <td>2-1 / 2 cups rice - cooked, 3 tomatoes, 3 teas...</td>\n",
       "      <td>15</td>\n",
       "      <td>3</td>\n",
       "      <td>South Indian Recipes</td>\n",
       "      <td>Main Course</td>\n",
       "      <td>Vegetarian</td>\n",
       "      <td>To make tomato puliogere, first cut the tomato...</td>\n",
       "      <td>http://www.archanaskitchen.com/spicy-tomato-ri...</td>\n",
       "      <td>22</td>\n",
       "      <td>5</td>\n",
       "    </tr>\n",
       "    <tr>\n",
       "      <th>4</th>\n",
       "      <td>2</td>\n",
       "      <td>Spicy Tomato Rice (Recipe)</td>\n",
       "      <td>2-1 / 2 cups rice - cooked, 3 tomatoes, 3 teas...</td>\n",
       "      <td>15</td>\n",
       "      <td>3</td>\n",
       "      <td>South Indian Recipes</td>\n",
       "      <td>Main Course</td>\n",
       "      <td>Vegetarian</td>\n",
       "      <td>To make tomato puliogere, first cut the tomato...</td>\n",
       "      <td>http://www.archanaskitchen.com/spicy-tomato-ri...</td>\n",
       "      <td>39</td>\n",
       "      <td>10</td>\n",
       "    </tr>\n",
       "  </tbody>\n",
       "</table>\n",
       "</div>"
      ],
      "text/plain": [
       "   recipe_id                  RecipeName  \\\n",
       "0          1        Masala Karela Recipe   \n",
       "1          1        Masala Karela Recipe   \n",
       "2          2  Spicy Tomato Rice (Recipe)   \n",
       "3          2  Spicy Tomato Rice (Recipe)   \n",
       "4          2  Spicy Tomato Rice (Recipe)   \n",
       "\n",
       "                                         Ingredients  TotalTimeInMins  \\\n",
       "0  6 Karela (Bitter Gourd/ Pavakkai) - deseeded,S...               45   \n",
       "1  6 Karela (Bitter Gourd/ Pavakkai) - deseeded,S...               45   \n",
       "2  2-1 / 2 cups rice - cooked, 3 tomatoes, 3 teas...               15   \n",
       "3  2-1 / 2 cups rice - cooked, 3 tomatoes, 3 teas...               15   \n",
       "4  2-1 / 2 cups rice - cooked, 3 tomatoes, 3 teas...               15   \n",
       "\n",
       "   Servings               Cuisine       Course               Diet  \\\n",
       "0         6                Indian    Side Dish  Diabetic Friendly   \n",
       "1         6                Indian    Side Dish  Diabetic Friendly   \n",
       "2         3  South Indian Recipes  Main Course         Vegetarian   \n",
       "3         3  South Indian Recipes  Main Course         Vegetarian   \n",
       "4         3  South Indian Recipes  Main Course         Vegetarian   \n",
       "\n",
       "                                        Instructions  \\\n",
       "0  To begin making the Masala Karela Recipe,de-se...   \n",
       "1  To begin making the Masala Karela Recipe,de-se...   \n",
       "2  To make tomato puliogere, first cut the tomato...   \n",
       "3  To make tomato puliogere, first cut the tomato...   \n",
       "4  To make tomato puliogere, first cut the tomato...   \n",
       "\n",
       "                                                 URL  user_id  rating  \n",
       "0  https://www.archanaskitchen.com/masala-karela-...       49       5  \n",
       "1  https://www.archanaskitchen.com/masala-karela-...       71      10  \n",
       "2  http://www.archanaskitchen.com/spicy-tomato-ri...        9       3  \n",
       "3  http://www.archanaskitchen.com/spicy-tomato-ri...       22       5  \n",
       "4  http://www.archanaskitchen.com/spicy-tomato-ri...       39      10  "
      ]
     },
     "execution_count": 8,
     "metadata": {},
     "output_type": "execute_result"
    }
   ],
   "source": [
    "# combining the df (which users voted for recipe_id=1)\n",
    "df = pd.merge(recipe_df,rating_df,on='recipe_id')\n",
    "df.head()"
   ]
  },
  {
   "cell_type": "code",
   "execution_count": 9,
   "id": "3ebf00df",
   "metadata": {},
   "outputs": [
    {
     "data": {
      "text/plain": [
       "(234, 12)"
      ]
     },
     "execution_count": 9,
     "metadata": {},
     "output_type": "execute_result"
    }
   ],
   "source": [
    "df.shape"
   ]
  },
  {
   "cell_type": "code",
   "execution_count": 10,
   "id": "b0825b07",
   "metadata": {},
   "outputs": [
    {
     "data": {
      "text/plain": [
       "(234, 12)"
      ]
     },
     "execution_count": 10,
     "metadata": {},
     "output_type": "execute_result"
    }
   ],
   "source": [
    "#checking for null values\n",
    "combined_df = df.dropna()\n",
    "combined_df.shape"
   ]
  },
  {
   "cell_type": "markdown",
   "id": "5e55fbad",
   "metadata": {},
   "source": [
    "# for weighted rating calculation,WR=((r*v)+(c*m))/(v+m)\n",
    "'''\n",
    "v=no.of votes for each recipe\n",
    "m=minimum votes required for each recipe\n",
    "r=avg of the ratings for each recipe\n",
    "c=mean vote across the whole report\n",
    "'''"
   ]
  },
  {
   "cell_type": "code",
   "execution_count": 11,
   "id": "857210d2",
   "metadata": {},
   "outputs": [
    {
     "data": {
      "text/html": [
       "<div>\n",
       "<style scoped>\n",
       "    .dataframe tbody tr th:only-of-type {\n",
       "        vertical-align: middle;\n",
       "    }\n",
       "\n",
       "    .dataframe tbody tr th {\n",
       "        vertical-align: top;\n",
       "    }\n",
       "\n",
       "    .dataframe thead th {\n",
       "        text-align: right;\n",
       "    }\n",
       "</style>\n",
       "<table border=\"1\" class=\"dataframe\">\n",
       "  <thead>\n",
       "    <tr style=\"text-align: right;\">\n",
       "      <th></th>\n",
       "      <th>recipe_id</th>\n",
       "      <th>totalRatingCount</th>\n",
       "    </tr>\n",
       "  </thead>\n",
       "  <tbody>\n",
       "    <tr>\n",
       "      <th>0</th>\n",
       "      <td>1</td>\n",
       "      <td>2</td>\n",
       "    </tr>\n",
       "    <tr>\n",
       "      <th>1</th>\n",
       "      <td>2</td>\n",
       "      <td>3</td>\n",
       "    </tr>\n",
       "    <tr>\n",
       "      <th>2</th>\n",
       "      <td>3</td>\n",
       "      <td>2</td>\n",
       "    </tr>\n",
       "    <tr>\n",
       "      <th>3</th>\n",
       "      <td>4</td>\n",
       "      <td>2</td>\n",
       "    </tr>\n",
       "    <tr>\n",
       "      <th>4</th>\n",
       "      <td>5</td>\n",
       "      <td>6</td>\n",
       "    </tr>\n",
       "  </tbody>\n",
       "</table>\n",
       "</div>"
      ],
      "text/plain": [
       "   recipe_id  totalRatingCount\n",
       "0          1                 2\n",
       "1          2                 3\n",
       "2          3                 2\n",
       "3          4                 2\n",
       "4          5                 6"
      ]
     },
     "execution_count": 11,
     "metadata": {},
     "output_type": "execute_result"
    }
   ],
   "source": [
    "#calculating no_of_user voted for each recipe--(v)\n",
    "no_of_votes=(combined_df.groupby(by=['recipe_id'])['rating'].count().reset_index().\n",
    "rename(columns = {'rating': 'totalRatingCount'})\n",
    "[['recipe_id', 'totalRatingCount']])\n",
    "no_of_votes.head()"
   ]
  },
  {
   "cell_type": "code",
   "execution_count": 12,
   "id": "a25f58ea",
   "metadata": {},
   "outputs": [
    {
     "data": {
      "text/html": [
       "<div>\n",
       "<style scoped>\n",
       "    .dataframe tbody tr th:only-of-type {\n",
       "        vertical-align: middle;\n",
       "    }\n",
       "\n",
       "    .dataframe tbody tr th {\n",
       "        vertical-align: top;\n",
       "    }\n",
       "\n",
       "    .dataframe thead th {\n",
       "        text-align: right;\n",
       "    }\n",
       "</style>\n",
       "<table border=\"1\" class=\"dataframe\">\n",
       "  <thead>\n",
       "    <tr style=\"text-align: right;\">\n",
       "      <th></th>\n",
       "      <th>recipe_id</th>\n",
       "      <th>avg</th>\n",
       "    </tr>\n",
       "  </thead>\n",
       "  <tbody>\n",
       "    <tr>\n",
       "      <th>0</th>\n",
       "      <td>1</td>\n",
       "      <td>7.5</td>\n",
       "    </tr>\n",
       "    <tr>\n",
       "      <th>1</th>\n",
       "      <td>2</td>\n",
       "      <td>6.0</td>\n",
       "    </tr>\n",
       "    <tr>\n",
       "      <th>2</th>\n",
       "      <td>3</td>\n",
       "      <td>4.0</td>\n",
       "    </tr>\n",
       "    <tr>\n",
       "      <th>3</th>\n",
       "      <td>4</td>\n",
       "      <td>6.0</td>\n",
       "    </tr>\n",
       "    <tr>\n",
       "      <th>4</th>\n",
       "      <td>5</td>\n",
       "      <td>6.5</td>\n",
       "    </tr>\n",
       "    <tr>\n",
       "      <th>...</th>\n",
       "      <td>...</td>\n",
       "      <td>...</td>\n",
       "    </tr>\n",
       "    <tr>\n",
       "      <th>94</th>\n",
       "      <td>104</td>\n",
       "      <td>6.0</td>\n",
       "    </tr>\n",
       "    <tr>\n",
       "      <th>95</th>\n",
       "      <td>105</td>\n",
       "      <td>9.0</td>\n",
       "    </tr>\n",
       "    <tr>\n",
       "      <th>96</th>\n",
       "      <td>106</td>\n",
       "      <td>9.0</td>\n",
       "    </tr>\n",
       "    <tr>\n",
       "      <th>97</th>\n",
       "      <td>107</td>\n",
       "      <td>1.0</td>\n",
       "    </tr>\n",
       "    <tr>\n",
       "      <th>98</th>\n",
       "      <td>108</td>\n",
       "      <td>3.5</td>\n",
       "    </tr>\n",
       "  </tbody>\n",
       "</table>\n",
       "<p>99 rows × 2 columns</p>\n",
       "</div>"
      ],
      "text/plain": [
       "    recipe_id  avg\n",
       "0           1  7.5\n",
       "1           2  6.0\n",
       "2           3  4.0\n",
       "3           4  6.0\n",
       "4           5  6.5\n",
       "..        ...  ...\n",
       "94        104  6.0\n",
       "95        105  9.0\n",
       "96        106  9.0\n",
       "97        107  1.0\n",
       "98        108  3.5\n",
       "\n",
       "[99 rows x 2 columns]"
      ]
     },
     "execution_count": 12,
     "metadata": {},
     "output_type": "execute_result"
    }
   ],
   "source": [
    "#calculating avg(mean)_of_rating for each recipe--(r)\n",
    "ratings_avg=(combined_df.groupby(by=['recipe_id'])['rating'].mean().reset_index().\n",
    "rename(columns = {'rating': 'avg'})\n",
    "[['recipe_id', 'avg']])\n",
    "ratings_avg"
   ]
  },
  {
   "cell_type": "code",
   "execution_count": 13,
   "id": "e9d93973",
   "metadata": {},
   "outputs": [],
   "source": [
    "no_of_votes['RecipeName']=recipe_df['RecipeName']"
   ]
  },
  {
   "cell_type": "code",
   "execution_count": 14,
   "id": "bb5e1cd7",
   "metadata": {},
   "outputs": [],
   "source": [
    "no_of_votes['average']=ratings_avg['avg']"
   ]
  },
  {
   "cell_type": "code",
   "execution_count": 15,
   "id": "47c9b7e2",
   "metadata": {},
   "outputs": [
    {
     "data": {
      "text/html": [
       "<div>\n",
       "<style scoped>\n",
       "    .dataframe tbody tr th:only-of-type {\n",
       "        vertical-align: middle;\n",
       "    }\n",
       "\n",
       "    .dataframe tbody tr th {\n",
       "        vertical-align: top;\n",
       "    }\n",
       "\n",
       "    .dataframe thead th {\n",
       "        text-align: right;\n",
       "    }\n",
       "</style>\n",
       "<table border=\"1\" class=\"dataframe\">\n",
       "  <thead>\n",
       "    <tr style=\"text-align: right;\">\n",
       "      <th></th>\n",
       "      <th>recipe_id</th>\n",
       "      <th>totalRatingCount</th>\n",
       "      <th>RecipeName</th>\n",
       "      <th>average</th>\n",
       "    </tr>\n",
       "  </thead>\n",
       "  <tbody>\n",
       "    <tr>\n",
       "      <th>0</th>\n",
       "      <td>1</td>\n",
       "      <td>2</td>\n",
       "      <td>Masala Karela Recipe</td>\n",
       "      <td>7.5</td>\n",
       "    </tr>\n",
       "    <tr>\n",
       "      <th>1</th>\n",
       "      <td>2</td>\n",
       "      <td>3</td>\n",
       "      <td>Spicy Tomato Rice (Recipe)</td>\n",
       "      <td>6.0</td>\n",
       "    </tr>\n",
       "    <tr>\n",
       "      <th>2</th>\n",
       "      <td>3</td>\n",
       "      <td>2</td>\n",
       "      <td>Ragi Semiya Upma Recipe - Ragi Millet Vermicel...</td>\n",
       "      <td>4.0</td>\n",
       "    </tr>\n",
       "    <tr>\n",
       "      <th>3</th>\n",
       "      <td>4</td>\n",
       "      <td>2</td>\n",
       "      <td>Gongura Chicken Curry Recipe - Andhra Style Go...</td>\n",
       "      <td>6.0</td>\n",
       "    </tr>\n",
       "    <tr>\n",
       "      <th>4</th>\n",
       "      <td>5</td>\n",
       "      <td>6</td>\n",
       "      <td>Andhra Style Alam Pachadi Recipe - Adrak Chutn...</td>\n",
       "      <td>6.5</td>\n",
       "    </tr>\n",
       "    <tr>\n",
       "      <th>...</th>\n",
       "      <td>...</td>\n",
       "      <td>...</td>\n",
       "      <td>...</td>\n",
       "      <td>...</td>\n",
       "    </tr>\n",
       "    <tr>\n",
       "      <th>94</th>\n",
       "      <td>104</td>\n",
       "      <td>1</td>\n",
       "      <td>Kobari Charu recipe - Kobbari Charu Recipe</td>\n",
       "      <td>6.0</td>\n",
       "    </tr>\n",
       "    <tr>\n",
       "      <th>95</th>\n",
       "      <td>105</td>\n",
       "      <td>1</td>\n",
       "      <td>Basil Tincture Recipe (Or) - Herbal Drink From...</td>\n",
       "      <td>9.0</td>\n",
       "    </tr>\n",
       "    <tr>\n",
       "      <th>96</th>\n",
       "      <td>106</td>\n",
       "      <td>1</td>\n",
       "      <td>Carrot Corn Mayo Pancake Recipe With Sandwich ...</td>\n",
       "      <td>9.0</td>\n",
       "    </tr>\n",
       "    <tr>\n",
       "      <th>97</th>\n",
       "      <td>107</td>\n",
       "      <td>1</td>\n",
       "      <td>Tamil Nadu Style Spicy Egg Fry Recipe</td>\n",
       "      <td>1.0</td>\n",
       "    </tr>\n",
       "    <tr>\n",
       "      <th>98</th>\n",
       "      <td>108</td>\n",
       "      <td>2</td>\n",
       "      <td>Chirer Dudh Puli Recipe - Bengali Style Baten ...</td>\n",
       "      <td>3.5</td>\n",
       "    </tr>\n",
       "  </tbody>\n",
       "</table>\n",
       "<p>99 rows × 4 columns</p>\n",
       "</div>"
      ],
      "text/plain": [
       "    recipe_id  totalRatingCount  \\\n",
       "0           1                 2   \n",
       "1           2                 3   \n",
       "2           3                 2   \n",
       "3           4                 2   \n",
       "4           5                 6   \n",
       "..        ...               ...   \n",
       "94        104                 1   \n",
       "95        105                 1   \n",
       "96        106                 1   \n",
       "97        107                 1   \n",
       "98        108                 2   \n",
       "\n",
       "                                           RecipeName  average  \n",
       "0                                Masala Karela Recipe      7.5  \n",
       "1                          Spicy Tomato Rice (Recipe)      6.0  \n",
       "2   Ragi Semiya Upma Recipe - Ragi Millet Vermicel...      4.0  \n",
       "3   Gongura Chicken Curry Recipe - Andhra Style Go...      6.0  \n",
       "4   Andhra Style Alam Pachadi Recipe - Adrak Chutn...      6.5  \n",
       "..                                                ...      ...  \n",
       "94         Kobari Charu recipe - Kobbari Charu Recipe      6.0  \n",
       "95  Basil Tincture Recipe (Or) - Herbal Drink From...      9.0  \n",
       "96  Carrot Corn Mayo Pancake Recipe With Sandwich ...      9.0  \n",
       "97              Tamil Nadu Style Spicy Egg Fry Recipe      1.0  \n",
       "98  Chirer Dudh Puli Recipe - Bengali Style Baten ...      3.5  \n",
       "\n",
       "[99 rows x 4 columns]"
      ]
     },
     "execution_count": 15,
     "metadata": {},
     "output_type": "execute_result"
    }
   ],
   "source": [
    "no_of_votes"
   ]
  },
  {
   "cell_type": "code",
   "execution_count": 16,
   "id": "ecd9db21",
   "metadata": {},
   "outputs": [],
   "source": [
    "v=no_of_votes['totalRatingCount']#no.of votes for each recipe\n",
    "m=no_of_votes['totalRatingCount'].quantile(0.70)#minimum votes required for each recipe\n",
    "r=no_of_votes['average']#avg of the ratings for each recipe\n",
    "c=no_of_votes['totalRatingCount'].mean()#mean vote across the whole report"
   ]
  },
  {
   "cell_type": "code",
   "execution_count": 17,
   "id": "53522da8",
   "metadata": {},
   "outputs": [
    {
     "data": {
      "text/plain": [
       "0    2\n",
       "1    3\n",
       "2    2\n",
       "3    2\n",
       "4    6\n",
       "Name: totalRatingCount, dtype: int64"
      ]
     },
     "execution_count": 17,
     "metadata": {},
     "output_type": "execute_result"
    }
   ],
   "source": [
    "v.head()"
   ]
  },
  {
   "cell_type": "code",
   "execution_count": 18,
   "id": "50b3f3c3",
   "metadata": {},
   "outputs": [
    {
     "data": {
      "text/plain": [
       "3.0"
      ]
     },
     "execution_count": 18,
     "metadata": {},
     "output_type": "execute_result"
    }
   ],
   "source": [
    "m"
   ]
  },
  {
   "cell_type": "code",
   "execution_count": 19,
   "id": "171aeab9",
   "metadata": {},
   "outputs": [
    {
     "data": {
      "text/plain": [
       "0    5.0\n",
       "1    6.0\n",
       "2    5.0\n",
       "3    5.0\n",
       "4    9.0\n",
       "Name: totalRatingCount, dtype: float64"
      ]
     },
     "execution_count": 19,
     "metadata": {},
     "output_type": "execute_result"
    }
   ],
   "source": [
    "z=v+m\n",
    "z.head()"
   ]
  },
  {
   "cell_type": "code",
   "execution_count": 20,
   "id": "ec290d04",
   "metadata": {},
   "outputs": [
    {
     "data": {
      "text/plain": [
       "0    7.5\n",
       "1    6.0\n",
       "2    4.0\n",
       "3    6.0\n",
       "4    6.5\n",
       "Name: average, dtype: float64"
      ]
     },
     "execution_count": 20,
     "metadata": {},
     "output_type": "execute_result"
    }
   ],
   "source": [
    "r.head()"
   ]
  },
  {
   "cell_type": "code",
   "execution_count": 21,
   "id": "b8847950",
   "metadata": {},
   "outputs": [
    {
     "data": {
      "text/plain": [
       "2.3636363636363638"
      ]
     },
     "execution_count": 21,
     "metadata": {},
     "output_type": "execute_result"
    }
   ],
   "source": [
    "c"
   ]
  },
  {
   "cell_type": "code",
   "execution_count": 22,
   "id": "539a0923",
   "metadata": {},
   "outputs": [],
   "source": [
    "no_of_votes['weighted_avg']=((r*v)+(c*m))/(v+m)"
   ]
  },
  {
   "cell_type": "code",
   "execution_count": 23,
   "id": "a57e9532",
   "metadata": {},
   "outputs": [
    {
     "data": {
      "text/html": [
       "<div>\n",
       "<style scoped>\n",
       "    .dataframe tbody tr th:only-of-type {\n",
       "        vertical-align: middle;\n",
       "    }\n",
       "\n",
       "    .dataframe tbody tr th {\n",
       "        vertical-align: top;\n",
       "    }\n",
       "\n",
       "    .dataframe thead th {\n",
       "        text-align: right;\n",
       "    }\n",
       "</style>\n",
       "<table border=\"1\" class=\"dataframe\">\n",
       "  <thead>\n",
       "    <tr style=\"text-align: right;\">\n",
       "      <th></th>\n",
       "      <th>recipe_id</th>\n",
       "      <th>totalRatingCount</th>\n",
       "      <th>RecipeName</th>\n",
       "      <th>average</th>\n",
       "      <th>weighted_avg</th>\n",
       "    </tr>\n",
       "  </thead>\n",
       "  <tbody>\n",
       "    <tr>\n",
       "      <th>0</th>\n",
       "      <td>1</td>\n",
       "      <td>2</td>\n",
       "      <td>Masala Karela Recipe</td>\n",
       "      <td>7.5</td>\n",
       "      <td>4.418182</td>\n",
       "    </tr>\n",
       "    <tr>\n",
       "      <th>1</th>\n",
       "      <td>2</td>\n",
       "      <td>3</td>\n",
       "      <td>Spicy Tomato Rice (Recipe)</td>\n",
       "      <td>6.0</td>\n",
       "      <td>4.181818</td>\n",
       "    </tr>\n",
       "    <tr>\n",
       "      <th>2</th>\n",
       "      <td>3</td>\n",
       "      <td>2</td>\n",
       "      <td>Ragi Semiya Upma Recipe - Ragi Millet Vermicel...</td>\n",
       "      <td>4.0</td>\n",
       "      <td>3.018182</td>\n",
       "    </tr>\n",
       "    <tr>\n",
       "      <th>3</th>\n",
       "      <td>4</td>\n",
       "      <td>2</td>\n",
       "      <td>Gongura Chicken Curry Recipe - Andhra Style Go...</td>\n",
       "      <td>6.0</td>\n",
       "      <td>3.818182</td>\n",
       "    </tr>\n",
       "    <tr>\n",
       "      <th>4</th>\n",
       "      <td>5</td>\n",
       "      <td>6</td>\n",
       "      <td>Andhra Style Alam Pachadi Recipe - Adrak Chutn...</td>\n",
       "      <td>6.5</td>\n",
       "      <td>5.121212</td>\n",
       "    </tr>\n",
       "  </tbody>\n",
       "</table>\n",
       "</div>"
      ],
      "text/plain": [
       "   recipe_id  totalRatingCount  \\\n",
       "0          1                 2   \n",
       "1          2                 3   \n",
       "2          3                 2   \n",
       "3          4                 2   \n",
       "4          5                 6   \n",
       "\n",
       "                                          RecipeName  average  weighted_avg  \n",
       "0                               Masala Karela Recipe      7.5      4.418182  \n",
       "1                         Spicy Tomato Rice (Recipe)      6.0      4.181818  \n",
       "2  Ragi Semiya Upma Recipe - Ragi Millet Vermicel...      4.0      3.018182  \n",
       "3  Gongura Chicken Curry Recipe - Andhra Style Go...      6.0      3.818182  \n",
       "4  Andhra Style Alam Pachadi Recipe - Adrak Chutn...      6.5      5.121212  "
      ]
     },
     "execution_count": 23,
     "metadata": {},
     "output_type": "execute_result"
    }
   ],
   "source": [
    "no_of_votes.head()"
   ]
  },
  {
   "cell_type": "code",
   "execution_count": 24,
   "id": "7af5c5bc",
   "metadata": {},
   "outputs": [
    {
     "data": {
      "text/plain": [
       "(99, 5)"
      ]
     },
     "execution_count": 24,
     "metadata": {},
     "output_type": "execute_result"
    }
   ],
   "source": [
    "no_of_votes.shape"
   ]
  },
  {
   "cell_type": "code",
   "execution_count": 25,
   "id": "04ec169b",
   "metadata": {},
   "outputs": [],
   "source": [
    "#weighted Rate sorted"
   ]
  },
  {
   "cell_type": "code",
   "execution_count": 26,
   "id": "7ec82600",
   "metadata": {},
   "outputs": [
    {
     "data": {
      "text/html": [
       "<div>\n",
       "<style scoped>\n",
       "    .dataframe tbody tr th:only-of-type {\n",
       "        vertical-align: middle;\n",
       "    }\n",
       "\n",
       "    .dataframe tbody tr th {\n",
       "        vertical-align: top;\n",
       "    }\n",
       "\n",
       "    .dataframe thead th {\n",
       "        text-align: right;\n",
       "    }\n",
       "</style>\n",
       "<table border=\"1\" class=\"dataframe\">\n",
       "  <thead>\n",
       "    <tr style=\"text-align: right;\">\n",
       "      <th></th>\n",
       "      <th>recipe_id</th>\n",
       "      <th>totalRatingCount</th>\n",
       "      <th>RecipeName</th>\n",
       "      <th>average</th>\n",
       "      <th>weighted_avg</th>\n",
       "    </tr>\n",
       "  </thead>\n",
       "  <tbody>\n",
       "    <tr>\n",
       "      <th>17</th>\n",
       "      <td>18</td>\n",
       "      <td>5</td>\n",
       "      <td>Gourd Raita Recipe - Grated Bottle Gourd Yogur...</td>\n",
       "      <td>7.20</td>\n",
       "      <td>5.386364</td>\n",
       "    </tr>\n",
       "    <tr>\n",
       "      <th>39</th>\n",
       "      <td>44</td>\n",
       "      <td>4</td>\n",
       "      <td>Baingan Bharta Recipe - Brinjal Bharta Recipe</td>\n",
       "      <td>7.25</td>\n",
       "      <td>5.155844</td>\n",
       "    </tr>\n",
       "    <tr>\n",
       "      <th>6</th>\n",
       "      <td>7</td>\n",
       "      <td>5</td>\n",
       "      <td>Udupi Style Ash Gourd Coconut Curry Recipe</td>\n",
       "      <td>6.80</td>\n",
       "      <td>5.136364</td>\n",
       "    </tr>\n",
       "    <tr>\n",
       "      <th>4</th>\n",
       "      <td>5</td>\n",
       "      <td>6</td>\n",
       "      <td>Andhra Style Alam Pachadi Recipe - Adrak Chutn...</td>\n",
       "      <td>6.50</td>\n",
       "      <td>5.121212</td>\n",
       "    </tr>\n",
       "    <tr>\n",
       "      <th>46</th>\n",
       "      <td>51</td>\n",
       "      <td>4</td>\n",
       "      <td>Whole Wheat Pita Bread Recipe</td>\n",
       "      <td>6.75</td>\n",
       "      <td>4.870130</td>\n",
       "    </tr>\n",
       "  </tbody>\n",
       "</table>\n",
       "</div>"
      ],
      "text/plain": [
       "    recipe_id  totalRatingCount  \\\n",
       "17         18                 5   \n",
       "39         44                 4   \n",
       "6           7                 5   \n",
       "4           5                 6   \n",
       "46         51                 4   \n",
       "\n",
       "                                           RecipeName  average  weighted_avg  \n",
       "17  Gourd Raita Recipe - Grated Bottle Gourd Yogur...     7.20      5.386364  \n",
       "39      Baingan Bharta Recipe - Brinjal Bharta Recipe     7.25      5.155844  \n",
       "6          Udupi Style Ash Gourd Coconut Curry Recipe     6.80      5.136364  \n",
       "4   Andhra Style Alam Pachadi Recipe - Adrak Chutn...     6.50      5.121212  \n",
       "46                      Whole Wheat Pita Bread Recipe     6.75      4.870130  "
      ]
     },
     "execution_count": 26,
     "metadata": {},
     "output_type": "execute_result"
    }
   ],
   "source": [
    "recipe=no_of_votes.sort_values('weighted_avg',ascending=False)\n",
    "recipe.head()"
   ]
  },
  {
   "cell_type": "code",
   "execution_count": 27,
   "id": "19e20e6a",
   "metadata": {},
   "outputs": [],
   "source": [
    "top_list=recipe['RecipeName'].head(6)"
   ]
  },
  {
   "cell_type": "code",
   "execution_count": 28,
   "id": "0431a6c4",
   "metadata": {},
   "outputs": [],
   "source": [
    "import pickle"
   ]
  },
  {
   "cell_type": "code",
   "execution_count": 29,
   "id": "3980464f",
   "metadata": {},
   "outputs": [],
   "source": [
    "pickle.dump(no_of_votes,open('a.pkl','wb'))"
   ]
  },
  {
   "cell_type": "code",
   "execution_count": 30,
   "id": "d27ce864",
   "metadata": {},
   "outputs": [],
   "source": [
    "pickle.dump(top_list,open('b.pkl','wb'))"
   ]
  },
  {
   "cell_type": "code",
   "execution_count": 31,
   "id": "bfaca878",
   "metadata": {},
   "outputs": [
    {
     "data": {
      "text/html": [
       "<div>\n",
       "<style scoped>\n",
       "    .dataframe tbody tr th:only-of-type {\n",
       "        vertical-align: middle;\n",
       "    }\n",
       "\n",
       "    .dataframe tbody tr th {\n",
       "        vertical-align: top;\n",
       "    }\n",
       "\n",
       "    .dataframe thead th {\n",
       "        text-align: right;\n",
       "    }\n",
       "</style>\n",
       "<table border=\"1\" class=\"dataframe\">\n",
       "  <thead>\n",
       "    <tr style=\"text-align: right;\">\n",
       "      <th></th>\n",
       "      <th>recipe_id</th>\n",
       "      <th>totalRatingCount</th>\n",
       "      <th>RecipeName</th>\n",
       "      <th>average</th>\n",
       "      <th>weighted_avg</th>\n",
       "    </tr>\n",
       "  </thead>\n",
       "  <tbody>\n",
       "    <tr>\n",
       "      <th>0</th>\n",
       "      <td>1</td>\n",
       "      <td>2</td>\n",
       "      <td>Masala Karela Recipe</td>\n",
       "      <td>7.5</td>\n",
       "      <td>4.418182</td>\n",
       "    </tr>\n",
       "    <tr>\n",
       "      <th>1</th>\n",
       "      <td>2</td>\n",
       "      <td>3</td>\n",
       "      <td>Spicy Tomato Rice (Recipe)</td>\n",
       "      <td>6.0</td>\n",
       "      <td>4.181818</td>\n",
       "    </tr>\n",
       "    <tr>\n",
       "      <th>2</th>\n",
       "      <td>3</td>\n",
       "      <td>2</td>\n",
       "      <td>Ragi Semiya Upma Recipe - Ragi Millet Vermicel...</td>\n",
       "      <td>4.0</td>\n",
       "      <td>3.018182</td>\n",
       "    </tr>\n",
       "    <tr>\n",
       "      <th>3</th>\n",
       "      <td>4</td>\n",
       "      <td>2</td>\n",
       "      <td>Gongura Chicken Curry Recipe - Andhra Style Go...</td>\n",
       "      <td>6.0</td>\n",
       "      <td>3.818182</td>\n",
       "    </tr>\n",
       "    <tr>\n",
       "      <th>4</th>\n",
       "      <td>5</td>\n",
       "      <td>6</td>\n",
       "      <td>Andhra Style Alam Pachadi Recipe - Adrak Chutn...</td>\n",
       "      <td>6.5</td>\n",
       "      <td>5.121212</td>\n",
       "    </tr>\n",
       "    <tr>\n",
       "      <th>...</th>\n",
       "      <td>...</td>\n",
       "      <td>...</td>\n",
       "      <td>...</td>\n",
       "      <td>...</td>\n",
       "      <td>...</td>\n",
       "    </tr>\n",
       "    <tr>\n",
       "      <th>94</th>\n",
       "      <td>104</td>\n",
       "      <td>1</td>\n",
       "      <td>Kobari Charu recipe - Kobbari Charu Recipe</td>\n",
       "      <td>6.0</td>\n",
       "      <td>3.272727</td>\n",
       "    </tr>\n",
       "    <tr>\n",
       "      <th>95</th>\n",
       "      <td>105</td>\n",
       "      <td>1</td>\n",
       "      <td>Basil Tincture Recipe (Or) - Herbal Drink From...</td>\n",
       "      <td>9.0</td>\n",
       "      <td>4.022727</td>\n",
       "    </tr>\n",
       "    <tr>\n",
       "      <th>96</th>\n",
       "      <td>106</td>\n",
       "      <td>1</td>\n",
       "      <td>Carrot Corn Mayo Pancake Recipe With Sandwich ...</td>\n",
       "      <td>9.0</td>\n",
       "      <td>4.022727</td>\n",
       "    </tr>\n",
       "    <tr>\n",
       "      <th>97</th>\n",
       "      <td>107</td>\n",
       "      <td>1</td>\n",
       "      <td>Tamil Nadu Style Spicy Egg Fry Recipe</td>\n",
       "      <td>1.0</td>\n",
       "      <td>2.022727</td>\n",
       "    </tr>\n",
       "    <tr>\n",
       "      <th>98</th>\n",
       "      <td>108</td>\n",
       "      <td>2</td>\n",
       "      <td>Chirer Dudh Puli Recipe - Bengali Style Baten ...</td>\n",
       "      <td>3.5</td>\n",
       "      <td>2.818182</td>\n",
       "    </tr>\n",
       "  </tbody>\n",
       "</table>\n",
       "<p>99 rows × 5 columns</p>\n",
       "</div>"
      ],
      "text/plain": [
       "    recipe_id  totalRatingCount  \\\n",
       "0           1                 2   \n",
       "1           2                 3   \n",
       "2           3                 2   \n",
       "3           4                 2   \n",
       "4           5                 6   \n",
       "..        ...               ...   \n",
       "94        104                 1   \n",
       "95        105                 1   \n",
       "96        106                 1   \n",
       "97        107                 1   \n",
       "98        108                 2   \n",
       "\n",
       "                                           RecipeName  average  weighted_avg  \n",
       "0                                Masala Karela Recipe      7.5      4.418182  \n",
       "1                          Spicy Tomato Rice (Recipe)      6.0      4.181818  \n",
       "2   Ragi Semiya Upma Recipe - Ragi Millet Vermicel...      4.0      3.018182  \n",
       "3   Gongura Chicken Curry Recipe - Andhra Style Go...      6.0      3.818182  \n",
       "4   Andhra Style Alam Pachadi Recipe - Adrak Chutn...      6.5      5.121212  \n",
       "..                                                ...      ...           ...  \n",
       "94         Kobari Charu recipe - Kobbari Charu Recipe      6.0      3.272727  \n",
       "95  Basil Tincture Recipe (Or) - Herbal Drink From...      9.0      4.022727  \n",
       "96  Carrot Corn Mayo Pancake Recipe With Sandwich ...      9.0      4.022727  \n",
       "97              Tamil Nadu Style Spicy Egg Fry Recipe      1.0      2.022727  \n",
       "98  Chirer Dudh Puli Recipe - Bengali Style Baten ...      3.5      2.818182  \n",
       "\n",
       "[99 rows x 5 columns]"
      ]
     },
     "execution_count": 31,
     "metadata": {},
     "output_type": "execute_result"
    }
   ],
   "source": [
    "pickle.load(open('a.pkl','rb'))"
   ]
  },
  {
   "cell_type": "code",
   "execution_count": 32,
   "id": "3134a836",
   "metadata": {},
   "outputs": [
    {
     "data": {
      "text/plain": [
       "17    Gourd Raita Recipe - Grated Bottle Gourd Yogur...\n",
       "39        Baingan Bharta Recipe - Brinjal Bharta Recipe\n",
       "6            Udupi Style Ash Gourd Coconut Curry Recipe\n",
       "4     Andhra Style Alam Pachadi Recipe - Adrak Chutn...\n",
       "46                        Whole Wheat Pita Bread Recipe\n",
       "74    Thengai Sadam Recipe (A Quick and Healthy Coco...\n",
       "Name: RecipeName, dtype: object"
      ]
     },
     "execution_count": 32,
     "metadata": {},
     "output_type": "execute_result"
    }
   ],
   "source": [
    "pickle.load(open('b.pkl','rb'))"
   ]
  },
  {
   "cell_type": "code",
   "execution_count": null,
   "id": "5b6cb662",
   "metadata": {},
   "outputs": [],
   "source": []
  }
 ],
 "metadata": {
  "kernelspec": {
   "display_name": "Python 3 (ipykernel)",
   "language": "python",
   "name": "python3"
  },
  "language_info": {
   "codemirror_mode": {
    "name": "ipython",
    "version": 3
   },
   "file_extension": ".py",
   "mimetype": "text/x-python",
   "name": "python",
   "nbconvert_exporter": "python",
   "pygments_lexer": "ipython3",
   "version": "3.10.9"
  }
 },
 "nbformat": 4,
 "nbformat_minor": 5
}
